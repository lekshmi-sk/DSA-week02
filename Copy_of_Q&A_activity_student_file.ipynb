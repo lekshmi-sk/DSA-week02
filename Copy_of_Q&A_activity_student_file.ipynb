{
  "nbformat": 4,
  "nbformat_minor": 0,
  "metadata": {
    "kernelspec": {
      "display_name": "Python 3",
      "language": "python",
      "name": "python3"
    },
    "language_info": {
      "codemirror_mode": {
        "name": "ipython",
        "version": 3
      },
      "file_extension": ".py",
      "mimetype": "text/x-python",
      "name": "python",
      "nbconvert_exporter": "python",
      "pygments_lexer": "ipython3",
      "version": "3.7.6"
    },
    "colab": {
      "name": "Copy of Q&A activity student file.ipynb",
      "provenance": [],
      "collapsed_sections": [
        "4z_Z-K1tlrS7",
        "TjVKjIfclrTB",
        "l3LCULfklrTD",
        "u4uBUcQKlrTE",
        "tlY6aFWBlrTH",
        "CnYorNiLlrTI",
        "Fiaez8iblrTI",
        "3vlcDNNEP7d_"
      ]
    }
  },
  "cells": [
    {
      "cell_type": "markdown",
      "metadata": {
        "id": "4z_Z-K1tlrS7"
      },
      "source": [
        "## 1. Complete the following code to find the area of an equilateral triangle. Output should be as displayed"
      ]
    },
    {
      "cell_type": "code",
      "metadata": {
        "id": "rP2qFD_SlrS_",
        "colab": {
          "base_uri": "https://localhost:8080/"
        },
        "outputId": "433d2461-7429-4ed9-83d1-79605c41fed4"
      },
      "source": [
        "import math\n",
        "side = float(input(\"Enter the side of the equilateral triangle: \"))\n",
        "area = ((math.sqrt(3))/4)*pow(side,2)\n",
        "print(\"Area =\",area)"
      ],
      "execution_count": 3,
      "outputs": [
        {
          "output_type": "stream",
          "name": "stdout",
          "text": [
            "Enter the side of the equilateral triangle: 8\n",
            "Area = 27.712812921102035\n"
          ]
        }
      ]
    },
    {
      "cell_type": "markdown",
      "metadata": {
        "id": "TjVKjIfclrTB"
      },
      "source": [
        "## 2. Write a program to count the number of each characters in a string"
      ]
    },
    {
      "cell_type": "code",
      "metadata": {
        "id": "JY5seVUQlrTC",
        "colab": {
          "base_uri": "https://localhost:8080/"
        },
        "outputId": "d0d9aeea-0a46-4bd9-a28a-e0747768186f"
      },
      "source": [
        "word1=str(input(\"Enter word: \"))\n",
        "word2=str(word1.lower())\n",
        "x=\"\"\n",
        "for i in word2:\n",
        "    if i not in x:\n",
        "        print(i,\"occurs\",word2.count(i),\"times\")\n",
        "        x=x+i"
      ],
      "execution_count": 4,
      "outputs": [
        {
          "output_type": "stream",
          "name": "stdout",
          "text": [
            "Enter word: Malayalam\n",
            "m occurs 2 times\n",
            "a occurs 4 times\n",
            "l occurs 2 times\n",
            "y occurs 1 times\n"
          ]
        }
      ]
    },
    {
      "cell_type": "markdown",
      "metadata": {
        "id": "l3LCULfklrTD"
      },
      "source": [
        "## 3. Write a program to find the area and perimeter of a rectangle using functions"
      ]
    },
    {
      "cell_type": "code",
      "metadata": {
        "id": "8haQD8edlrTD",
        "colab": {
          "base_uri": "https://localhost:8080/"
        },
        "outputId": "24449ca1-01f3-487f-a3d8-ad5b1f313c6e"
      },
      "source": [
        "def area(a,b):\n",
        "    ar=float(a*b)\n",
        "    return ar\n",
        "def peri(a,b):\n",
        "    print(\"Perimeter =\",2*(a+b))\n",
        "leng=float(input(\"Enter length: \"))\n",
        "bre=float(input(\"Enter breadth: \"))\n",
        "print(\"Area =\",area(leng,bre))\n",
        "peri(leng,bre)"
      ],
      "execution_count": 6,
      "outputs": [
        {
          "output_type": "stream",
          "name": "stdout",
          "text": [
            "Enter length: 10\n",
            "Enter breadth: 1.5\n",
            "Area = 15.0\n",
            "Perimeter = 23.0\n"
          ]
        }
      ]
    },
    {
      "cell_type": "markdown",
      "metadata": {
        "id": "JHK4ZdsflrTE"
      },
      "source": [
        "## 4. Write a program to print the fibonacci series till a specified number"
      ]
    },
    {
      "cell_type": "code",
      "metadata": {
        "id": "LyBEj-4SlrTE",
        "colab": {
          "base_uri": "https://localhost:8080/"
        },
        "outputId": "8843729a-48a3-435f-ab55-8e1f292e6b0a"
      },
      "source": [
        "n=int(input(\"Enter number of terms: \"))\n",
        "a=0\n",
        "b=1\n",
        "sum=0\n",
        "count=1\n",
        "print(\"Fibonacci series: \", end=\" \")\n",
        "while (count<=n):\n",
        "  print(sum,end=\" \")\n",
        "  count+=1\n",
        "  a=b\n",
        "  b=sum\n",
        "  sum=a+b"
      ],
      "execution_count": 16,
      "outputs": [
        {
          "output_type": "stream",
          "name": "stdout",
          "text": [
            "Enter number of terms: 10\n",
            "Fibonacci series:  0 1 1 2 3 5 8 13 21 34 "
          ]
        }
      ]
    },
    {
      "cell_type": "markdown",
      "metadata": {
        "id": "u4uBUcQKlrTE"
      },
      "source": [
        "## 5. Complete the following code to find the minimum of 3 number using conditional statements. Output should be as displayed."
      ]
    },
    {
      "cell_type": "code",
      "metadata": {
        "id": "XdZwrZjIlrTF",
        "colab": {
          "base_uri": "https://localhost:8080/"
        },
        "outputId": "e4ea7af5-92d9-4fe9-fd6a-ee40b80b29bb"
      },
      "source": [
        "a,b,c = input(\"Enter three numbers followed by space: \").split()\n",
        "\n",
        "print(\"First number :\",a)\n",
        "print(\"Second number :\",b)\n",
        "print(\"Third number :\",c)\n",
        "if a==b==c:\n",
        "    print(\"Entered numbers are equal!!!\")\n",
        "if a<b and a<c:\n",
        "    print(a,\" is the smallest\")\n",
        "if b<a and b<c:\n",
        "    print(b,\" is the smallest\")\n",
        "if c<a and c<b:\n",
        "    print(c,\" is the smallest\")"
      ],
      "execution_count": 7,
      "outputs": [
        {
          "output_type": "stream",
          "name": "stdout",
          "text": [
            "Enter three numbers followed by space: 15 7 20\n",
            "First number : 15\n",
            "Second number : 7\n",
            "Third number : 20\n",
            "15  is the smallest\n"
          ]
        }
      ]
    },
    {
      "cell_type": "markdown",
      "metadata": {
        "id": "aR_CnToWlrTG"
      },
      "source": [
        "## 6. Write a program to print star pyramind. The number of rows should be taken as input from the user"
      ]
    },
    {
      "cell_type": "code",
      "metadata": {
        "id": "M37A-buplrTG",
        "colab": {
          "base_uri": "https://localhost:8080/"
        },
        "outputId": "a0fbde95-5881-40ef-950b-52b8581774bd"
      },
      "source": [
        "n=int(input(\"Enter number of rows: \"))\n",
        "for i in range(0,n):\n",
        "  for j in range(0,i+1):\n",
        "    print(\"* \",end=\"\")\n",
        "  print(\"\\r\")  "
      ],
      "execution_count": 13,
      "outputs": [
        {
          "output_type": "stream",
          "name": "stdout",
          "text": [
            "Enter number of rows: 5\n",
            "* \n",
            "* * \n",
            "* * * \n",
            "* * * * \n",
            "* * * * * \n"
          ]
        }
      ]
    },
    {
      "cell_type": "markdown",
      "metadata": {
        "id": "tlY6aFWBlrTH"
      },
      "source": [
        "## 7. Complete the following code to convert hour into seconds. Output should be as displayed"
      ]
    },
    {
      "cell_type": "code",
      "metadata": {
        "id": "YOZQFk7FlrTH",
        "colab": {
          "base_uri": "https://localhost:8080/"
        },
        "outputId": "8e517417-3de0-4e4e-876e-48b19db3ca02"
      },
      "source": [
        "def to_seconds(t):\n",
        "    return t*(60**2)\n",
        "time_in_hours = int(input(\"Enter time in Hours \"))\n",
        "print(time_in_hours ,\"Hour is equal to\" ,to_seconds(time_in_hours) ,\" Seconds\")"
      ],
      "execution_count": 9,
      "outputs": [
        {
          "output_type": "stream",
          "name": "stdout",
          "text": [
            "Enter time in Hours 12\n",
            "12 Hour is equal to 43200  Seconds\n"
          ]
        }
      ]
    },
    {
      "cell_type": "markdown",
      "metadata": {
        "id": "CnYorNiLlrTI"
      },
      "source": [
        "## 8. Write a program to print multiplication table as below"
      ]
    },
    {
      "cell_type": "code",
      "metadata": {
        "id": "dPQqDPuDlrTI",
        "colab": {
          "base_uri": "https://localhost:8080/"
        },
        "outputId": "5c2ebd36-6fce-4aac-adc9-3f7d975c17f4"
      },
      "source": [
        "def table(a):\n",
        "  for i in range(1,11):\n",
        "   print(i,\"X\",a,\"=\",i*a)\n",
        "   i+=1\n",
        "num=int(input(\"Enter a number to find the multiplication table: \"))\n",
        "table(num)"
      ],
      "execution_count": 10,
      "outputs": [
        {
          "output_type": "stream",
          "name": "stdout",
          "text": [
            "Enter a number to find the multiplication table: 4\n",
            "1 X 4 = 4\n",
            "2 X 4 = 8\n",
            "3 X 4 = 12\n",
            "4 X 4 = 16\n",
            "5 X 4 = 20\n",
            "6 X 4 = 24\n",
            "7 X 4 = 28\n",
            "8 X 4 = 32\n",
            "9 X 4 = 36\n",
            "10 X 4 = 40\n"
          ]
        }
      ]
    },
    {
      "cell_type": "markdown",
      "metadata": {
        "id": "Fiaez8iblrTI"
      },
      "source": [
        "## 9. Write a program to take your 5 favorite food as list and print each as 'I like Biriyani'"
      ]
    },
    {
      "cell_type": "code",
      "metadata": {
        "id": "39W1zFX7lrTJ",
        "colab": {
          "base_uri": "https://localhost:8080/"
        },
        "outputId": "d58bd556-81fd-4ffd-8201-b940fda4066f"
      },
      "source": [
        "a,b,c = input(\"Enter your favourite food list followed by space : \").split()\n",
        "print(\"I like\",a)\n",
        "print(\"I like\",b)\n",
        "print(\"I like\",c)"
      ],
      "execution_count": 11,
      "outputs": [
        {
          "output_type": "stream",
          "name": "stdout",
          "text": [
            "Enter your favourite food list followed by space : Cake Pasta Chicken\n",
            "I like Cake\n",
            "I like Pasta\n",
            "I like Chicken\n"
          ]
        }
      ]
    },
    {
      "cell_type": "markdown",
      "metadata": {
        "id": "3vlcDNNEP7d_"
      },
      "source": [
        "## 10. Find error(s) in the following code(if any) and rewrite code.\n",
        "\n"
      ]
    },
    {
      "cell_type": "code",
      "metadata": {
        "id": "coREkcY3P9sG",
        "colab": {
          "base_uri": "https://localhost:8080/"
        },
        "outputId": "5bc27a33-988d-4d4e-a3a4-7d28d19913b0"
      },
      "source": [
        "x=int(input(\"Enter value of x: \"))\n",
        "for y in range (0,10):\n",
        "     if x==y:\n",
        "          print(\"They are equal\")\n",
        "     else:\n",
        "         print( \"They are unequal\")"
      ],
      "execution_count": 12,
      "outputs": [
        {
          "output_type": "stream",
          "name": "stdout",
          "text": [
            "Enter value of x: 3\n",
            "They are unequal\n",
            "They are unequal\n",
            "They are unequal\n",
            "They are equal\n",
            "They are unequal\n",
            "They are unequal\n",
            "They are unequal\n",
            "They are unequal\n",
            "They are unequal\n",
            "They are unequal\n"
          ]
        }
      ]
    }
  ]
}